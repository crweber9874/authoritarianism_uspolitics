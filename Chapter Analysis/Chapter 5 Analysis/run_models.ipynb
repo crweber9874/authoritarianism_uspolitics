{
 "cells": [
  {
   "cell_type": "markdown",
   "metadata": {},
   "source": [
    "# Statistical Models in Chapter 5\n",
    "\n",
    "We use a Bayesian Multilevel Model to estimate these effects, specifically the $\\texttt{brms}$ package in R. The model is as follows. \n",
    "\n",
    "The analysis follows a unified structure. Models are estimated as multilevel models in  BRMS, and predictions are made using the posterior draws. The models are estimated in a separate notebook -- $\\texttt{run\\_models.ipynb}$  and processed in  $\\texttt{post\\_process.ipynb}$\n",
    "\n",
    "The workflow is as follows\n",
    "\n",
    "* Estimate all regression models, save the output. This is achieved in this notebook. It creates a number of files -- it does take a good amount of time to estimate everything.   The traceplots and other diagnostics all look fine. I'm not sure it takes the number of iterations specified to reach convergence. It's useful to run everything. I then process the models in a separate notebook.\n",
    "* Post-process these regression models, forming the notebook called \"post_process.ipynb.\" Figures and graphics are shown in this notebook.\n",
    "\n",
    "We use this multilevel approach. \n",
    "\n",
    "$pr(y_{i,t}| x_{auth, i, t}; x^2_{auth, i, t}; z_{k, i, t}) =\\beta_{0,k} + \\beta_{1,t} x_{auth, i, t} +  \\beta_{2,t} x_{auth, i, t}^2 + \\sum_{k=1}^K \\beta_k z_{k,i,t} +  \\epsilon_{t} +  \\epsilon_{i,t}$\n",
    "\n",
    "where $K$ denotes the number of control variables, $t$ cross-sectional year, and $i$, the $i$ th respondent (nested within the $t$ ANES survey). Wide priors were used for all the parameters, and the correlations between slopes and intercepts were always estimated (with the exception of the random intercept only model). Logistic regression was used for voting, multinomial logit for party identification, and linear regression for the affective polarization analysis. Throughout the analysis, I also specify interactions between authoritarianism and education. The output is then saved to three lists, analyzed in the *post_process* notebook.\n",
    "\n",
    "This notebook outputs four files analyzed in the *post_process* notebook.\n",
    "\n",
    "* $\\texttt{vote\\_model.rda}$ -- the output for the voting analysis\n",
    "* $\\texttt{affect.rda}$ -- the output for the feeling thermometer analysis\n",
    "* $\\texttt{party\\_model.rda\\_model.rda}$ -- the output of the party identification analysis\n",
    "* $\\texttt{indirect.rda}$ -- the indirect/direct analysis using $\\texttt{rstan}$\n",
    "  \n"
   ]
  },
  {
   "cell_type": "code",
   "execution_count": 1,
   "metadata": {
    "vscode": {
     "languageId": "r"
    }
   },
   "outputs": [
    {
     "name": "stderr",
     "output_type": "stream",
     "text": [
      "Loading required package: Rcpp\n",
      "\n",
      "Loading 'brms' package (version 2.21.0). Useful instructions\n",
      "can be found by typing help('brms'). A more detailed introduction\n",
      "to the package is available through vignette('brms_overview').\n",
      "\n",
      "\n",
      "Attaching package: 'brms'\n",
      "\n",
      "\n",
      "The following object is masked from 'package:stats':\n",
      "\n",
      "    ar\n",
      "\n",
      "\n",
      "\n",
      "Attaching package: 'tidybayes'\n",
      "\n",
      "\n",
      "The following objects are masked from 'package:brms':\n",
      "\n",
      "    dstudent_t, pstudent_t, qstudent_t, rstudent_t\n",
      "\n",
      "\n",
      "\n",
      "Attaching package: 'dplyr'\n",
      "\n",
      "\n",
      "The following objects are masked from 'package:stats':\n",
      "\n",
      "    filter, lag\n",
      "\n",
      "\n",
      "The following objects are masked from 'package:base':\n",
      "\n",
      "    intersect, setdiff, setequal, union\n",
      "\n",
      "\n",
      "Warning message:\n",
      "\"\u001b[1m\u001b[22mThe `size` argument of `element_line()` is deprecated as of ggplot2 3.4.0.\n",
      "\u001b[36mi\u001b[39m Please use the `linewidth` argument instead.\"\n"
     ]
    }
   ],
   "source": [
    "# More transformations and data recodes.....\n",
    "rm(list = ls())\n",
    "library(brms)\n",
    "#library(tidyverse)\n",
    "library(ggplot2)\n",
    "library(modelr)\n",
    "library(tidybayes)\n",
    "library(dplyr)\n",
    "library(cowplot)\n",
    "\n",
    "\n",
    "data_location = \"/clean_data/\"\n",
    "#### Load cleaned data\n",
    "load(\"cumulativeANES_White.rda\")\n",
    "\n",
    "source(\"functions/common_functions.r\")\n",
    "\n",
    "# Override the defaults\n",
    "ggtheme = theme(\n",
    "        plot.title=element_text(face=\"bold\",hjust=-.08,vjust=0,colour=\"#3C3C3C\",size=12),\n",
    "        axis.text.x=element_text(size=9,colour=\"#535353\",face=\"bold\"),\n",
    "        axis.text.y=element_text(size=9,colour=\"#535353\",face=\"bold\"),\n",
    "        axis.title.y=element_text(size=11,colour=\"#535353\",face=\"bold\",vjust=1.5),\n",
    "        axis.ticks=element_blank(),\n",
    "        panel.grid.major=element_line(colour=\"#D0D0D0\",size=.25),\n",
    "        panel.background=element_rect(fill=\"white\"))\n",
    "####\n",
    "data$authoritarianism_2 = data$authoritarianism^2"
   ]
  },
  {
   "cell_type": "code",
   "execution_count": 2,
   "metadata": {
    "vscode": {
     "languageId": "r"
    }
   },
   "outputs": [
    {
     "data": {
      "text/plain": [
       "\n",
       "FALSE  TRUE \n",
       " 6462  3216 "
      ]
     },
     "metadata": {},
     "output_type": "display_data"
    }
   ],
   "source": [
    "table(is.na(data$vote))"
   ]
  },
  {
   "cell_type": "code",
   "execution_count": 3,
   "metadata": {
    "vscode": {
     "languageId": "r"
    }
   },
   "outputs": [
    {
     "data": {
      "text/html": [
       "<style>\n",
       ".list-inline {list-style: none; margin:0; padding: 0}\n",
       ".list-inline>li {display: inline-block}\n",
       ".list-inline>li:not(:last-child)::after {content: \"\\00b7\"; padding: 0 .5ex}\n",
       "</style>\n",
       "<ol class=list-inline><li>6023</li><li>11</li></ol>\n"
      ],
      "text/latex": [
       "\\begin{enumerate*}\n",
       "\\item 6023\n",
       "\\item 11\n",
       "\\end{enumerate*}\n"
      ],
      "text/markdown": [
       "1. 6023\n",
       "2. 11\n",
       "\n",
       "\n"
      ],
      "text/plain": [
       "[1] 6023   11"
      ]
     },
     "metadata": {},
     "output_type": "display_data"
    }
   ],
   "source": [
    "### I create smaller, more tractable versions of the data rather than operating on the full data frame, data.\n",
    "tmp_dat = data[,c(\"vote\", \"authoritarianism\",\n",
    "                 \"female\", \"age\", \"college\", \"income\",\n",
    "                 \"jewish\", \"catholic\", \"other\", \"year\")] %>% na.omit() %>%\n",
    "                 mutate(authoritarianism_2 = authoritarianism*authoritarianism)\n",
    "\n",
    "dim(tmp_dat)"
   ]
  },
  {
   "cell_type": "markdown",
   "metadata": {},
   "source": [
    "I ran these models in $\\texttt{brms}$, a useful package to run a bunch of different types of regression models in a bayesian framework. BRMS ends up just creating $\\texttt{stan}$ code that is more efficient than I could do on my own. There are three models\n",
    "\n",
    "* $\\texttt{fit0a}$ is a random intercept model. Intercepts vary by year. Everything else is fixed. \n",
    "* $\\texttt{fit0b}$ is a random intercept and random slope model. Intercepts vary by year, as does the effect of authoritarianism. Everything else is fixed. \n",
    "* $\\texttt{fit1}$ is a random intercept and random slope model. Intercepts vary by year, as does the effect of authoritarianism. Authoritarianism, however, has a quadratic effect. Everything else is fixed (and linear).\n",
    "* $\\texttt{education}$ is a random intercept and random slope model. Intercepts vary by year, as does the effect of authoritarianism. Authoritarianism, however, has a quadratic effect. I specficy an interaction between authoritarianism, and education; as well as authoritarianism-squared  and education. The code is below. I ended up just saving the output in a list so I wouldn't need to estimate the models every time I work on the project (and we can save this for replication).\n",
    "\n"
   ]
  },
  {
   "cell_type": "markdown",
   "metadata": {},
   "source": [
    "This is the random intercept model. 3000 iterations, 3 chains. "
   ]
  },
  {
   "cell_type": "code",
   "execution_count": 5,
   "metadata": {
    "vscode": {
     "languageId": "r"
    }
   },
   "outputs": [
    {
     "name": "stderr",
     "output_type": "stream",
     "text": [
      "Compiling Stan program...\n",
      "\n",
      "Start sampling\n",
      "\n"
     ]
    }
   ],
   "source": [
    "fit0a <- brm(vote~ female + age + college + income + jewish +\n",
    "                 catholic + other + authoritarianism +\n",
    "                 (1|year),\n",
    "                 family = bernoulli(link = \"logit\"),\n",
    "                 data = tmp_dat,\n",
    "                 chains = 3, cores = 6, seed = 1234,\n",
    "                 iter = 1000)"
   ]
  },
  {
   "cell_type": "markdown",
   "metadata": {},
   "source": [
    "This model allows for random intercepts and a random slope for authoritarianism. BRMS also estimates the covariance between the two random effects, which is important in these models."
   ]
  },
  {
   "cell_type": "code",
   "execution_count": null,
   "metadata": {
    "vscode": {
     "languageId": "r"
    }
   },
   "outputs": [],
   "source": [
    "fit0b <- brm(vote~ female + age + college + income + jewish +\n",
    "                 catholic + other + authoritarianism +\n",
    "                 (1+authoritarianism|year),\n",
    "                 family = bernoulli(link = \"logit\"),\n",
    "                 data = tmp_dat,\n",
    "                 chains = 3, cores = 8, seed = 1234,\n",
    "                 iter = 1000)"
   ]
  },
  {
   "cell_type": "markdown",
   "metadata": {},
   "source": [
    "Ultimately, it's the model below that I'll use. In the post_processing notebook, I compare the model fit across these models. This analysis supports a quadratic specification."
   ]
  },
  {
   "cell_type": "code",
   "execution_count": null,
   "metadata": {
    "vscode": {
     "languageId": "r"
    }
   },
   "outputs": [],
   "source": [
    "fit1 <- brm(vote~ female + age + college + income + jewish +\n",
    "                 catholic + other + authoritarianism + authoritarianism_2 +\n",
    "                 (1+authoritarianism + authoritarianism_2|year),\n",
    "                 family = bernoulli(link = \"logit\"),\n",
    "                 data = tmp_dat,\n",
    "                 chains = 3, cores = 8, seed = 1234,\n",
    "                 iter = 1000)"
   ]
  },
  {
   "cell_type": "markdown",
   "metadata": {},
   "source": [
    "Finally, this model specifies an interaction with education. The models are saved in a list entitled, \"vote_model.rda.\" Nothing takes all that long to estimate -- but it is annoying to wait -- so I saved the output and load for subsequent analysis."
   ]
  },
  {
   "cell_type": "code",
   "execution_count": null,
   "metadata": {
    "vscode": {
     "languageId": "r"
    }
   },
   "outputs": [],
   "source": [
    "education <- brm(vote~ female + age + college + income + jewish +\n",
    "                  catholic + other + authoritarianism + authoritarianism_2 +\n",
    "                  authoritarianism:college + authoritarianism_2:college +\n",
    "                  (1+ authoritarianism + authoritarianism_2 |year),\n",
    "                  family = bernoulli(link = \"logit\"),\n",
    "                  data = tmp_dat,\n",
    "                  chains = 3,\n",
    "                  cores = 10,\n",
    "                  seed = 1234,\n",
    "                  iter = 3000)\n",
    "vote_models = list(fit0a, fit0b, fit1, education)\n",
    "# Save the vote models to Chapter 5 folder\n",
    "save(vote_models, file = \"vote_model.rda\")"
   ]
  },
  {
   "cell_type": "code",
   "execution_count": null,
   "metadata": {
    "vscode": {
     "languageId": "r"
    }
   },
   "outputs": [],
   "source": [
    "# Sample sizes per model\n",
    "load(\"vote_model.rda\")\n",
    "paste(\"The number of voters in these models is the same\")\n",
    "vote_models[[1]]$data %>% dim()\n",
    "vote_models[[2]]$data %>% dim()\n",
    "vote_models[[3]]$data %>% dim()"
   ]
  },
  {
   "cell_type": "markdown",
   "metadata": {},
   "source": [
    "## Party Identification Models\n",
    "\n",
    "\n",
    "Below I fit two models to a mulltinomial logit predicting party identification. One includes the effect of authortarianism, and authoritarianism-squared; the second includes an interaction with education. I save these in a list entitled, party_models.rda."
   ]
  },
  {
   "cell_type": "code",
   "execution_count": 37,
   "metadata": {
    "vscode": {
     "languageId": "r"
    }
   },
   "outputs": [],
   "source": [
    "data$party3      = recode(data$pid*6 + 1, `1` = 1, `2` = 1, `3` = 2 ,`4` = 2, `5` = 2, `6` = 3, `7` = 3) %>% suppressWarnings()\n",
    "data$republican  = recode(data$pid*6 + 1, `1` = 0, `2` = 0, `3` = 0 ,`4` = 0, `5` = 0, `6` = 1, `7` = 1) %>% suppressWarnings()\n",
    "data$democrat    = recode(data$pid*6 + 1, `1` = 1, `2` = 1, `3` = 0 ,`4` = 0, `5` = 0, `6` = 0, `7` = 0) %>% suppressWarnings()\n",
    "data$independent = recode(data$pid*6 + 1, `1` = 0, `2` = 0, `3` = 1 ,`4` = 1, `5` = 1, `6` = 0, `7` = 0) %>% suppressWarnings()\n",
    "data$feeling.repc = zero.one(data$feeling.repc) %>% as.numeric\n",
    "data$feeling.demc = zero.one(data$feeling.demc) %>% as.numeric\n",
    "data$feeling.rep  = zero.one(data$feeling.rep) %>% as.numeric\n",
    "data$feeling.dem  = zero.one(data$feeling.dem) %>% as.numeric\n",
    "\n",
    "tmp_dat = data[,c(\"party3\", \"authoritarianism\",\n",
    "                 \"female\", \"age\", \"college\", \"income\",\n",
    "                 \"jewish\", \"catholic\", \"other\", \"year\")] %>% na.omit() %>%\n",
    "                 mutate(authoritarianism_2 = authoritarianism*authoritarianism)\n",
    "\n",
    "\n"
   ]
  },
  {
   "cell_type": "code",
   "execution_count": null,
   "metadata": {
    "vscode": {
     "languageId": "r"
    }
   },
   "outputs": [],
   "source": [
    "mod <- brm(party3 ~ female + age + college + income + jewish +\n",
    "                  catholic + other + authoritarianism + authoritarianism_2 +\n",
    "                  authoritarianism:college + authoritarianism_2:college +\n",
    "                 (1+authoritarianism + authoritarianism_2|year),\n",
    "                  data = tmp_dat,\n",
    "                  family = \"categorical\",\n",
    "                  chains = 2,\n",
    "                  cores = 6,\n",
    "                  seed = 1234,\n",
    "                  iter = 4000)"
   ]
  },
  {
   "cell_type": "code",
   "execution_count": null,
   "metadata": {
    "vscode": {
     "languageId": "r"
    }
   },
   "outputs": [],
   "source": [
    "main <- brm(party3 ~ female + age + college + income + jewish +\n",
    "                  catholic + other + authoritarianism + authoritarianism_2 +\n",
    "                 (1+authoritarianism + authoritarianism_2|year),\n",
    "                  data = tmp_dat,\n",
    "                  family = \"categorical\",\n",
    "                  chains = 2,\n",
    "                  cores = 6,\n",
    "                  seed = 1234,\n",
    "                  iter = 1200)\n",
    "party_model = list(mod, main)\n",
    "# Save to Chapter 5 folder\n",
    "save(party_model, file = \"party_model.rda\")"
   ]
  },
  {
   "cell_type": "markdown",
   "metadata": {},
   "source": [
    "## Affective Polarization Models\n",
    "\n",
    "The final component in chapter 6 is the affective polarization analysis -- presented as bar charts. Below I estimate the effects for each variable. I did attempt to bind these into a single multivariate regression model (with multiple DVs). This is accomplished using the mvbind command. It took forever to run, so I just did it separately. Finally, I estimate the influence of education (on the difference score)."
   ]
  },
  {
   "cell_type": "code",
   "execution_count": 31,
   "metadata": {
    "vscode": {
     "languageId": "r"
    }
   },
   "outputs": [],
   "source": [
    "data$party3      = recode(data$pid*6 + 1, `1` = 1, `2` = 1, `3` = 2 ,`4` = 2, `5` = 2, `6` = 3, `7` = 3) %>% suppressWarnings()\n",
    "data$republican  = recode(data$pid*6 + 1, `1` = 0, `2` = 0, `3` = 0 ,`4` = 0, `5` = 0, `6` = 1, `7` = 1) %>% suppressWarnings()\n",
    "data$democrat    = recode(data$pid*6 + 1, `1` = 1, `2` = 1, `3` = 0 ,`4` = 0, `5` = 0, `6` = 0, `7` = 0) %>% suppressWarnings()\n",
    "data$independent = recode(data$pid*6 + 1, `1` = 0, `2` = 0, `3` = 1 ,`4` = 1, `5` = 1, `6` = 0, `7` = 0) %>% suppressWarnings()\n",
    "data$feeling.repc = zero.one(data$feeling.repc) %>% as.numeric\n",
    "data$feeling.demc = zero.one(data$feeling.demc) %>% as.numeric\n",
    "data$feeling.rep  = zero.one(data$feeling.rep) %>% as.numeric\n",
    "data$feeling.dem  = zero.one(data$feeling.dem) %>% as.numeric\n",
    "\n",
    "tmp_dat = data[,c(\"party3\", \"authoritarianism\",\n",
    "                 \"female\", \"age\", \"college\", \"income\",\n",
    "                 \"jewish\", \"catholic\", \"other\", \"year\")] %>% na.omit() %>%\n",
    "                 mutate(authoritarianism_2 = authoritarianism*authoritarianism)\n",
    "\n",
    "tmp_dat = data[,c(\"feeling.repc\", \"feeling.demc\", \"feeling.rep\", \"feeling.dem\",\n",
    "                 \"authoritarianism\", \"authoritarianism_2\",\n",
    "                 \"female\", \"age\", \"college\", \"income\",\n",
    "                 \"jewish\", \"catholic\", \"other\", \"year\")] %>% na.omit()\n"
   ]
  },
  {
   "cell_type": "code",
   "execution_count": null,
   "metadata": {
    "vscode": {
     "languageId": "r"
    }
   },
   "outputs": [],
   "source": [
    "library(brms)\n",
    "demc  <- brm(feeling.demc~ female + age + college + income + jewish +\n",
    "                  catholic + other + authoritarianism + authoritarianism_2 +\n",
    "                  (1+ authoritarianism|year),\n",
    "                  data = tmp_dat,\n",
    "                  family = \"gaussian\",\n",
    "                  chains = 2,\n",
    "                  cores = 6,\n",
    "                  seed = 1234,\n",
    "                  iter = 1200)\n"
   ]
  },
  {
   "cell_type": "code",
   "execution_count": null,
   "metadata": {
    "vscode": {
     "languageId": "r"
    }
   },
   "outputs": [],
   "source": [
    "dems <- brm(feeling.dem~ female + age + college + income + jewish +\n",
    "                  catholic + other + authoritarianism + authoritarianism_2 +\n",
    "                  (1+ authoritarianism|year),\n",
    "                  data = tmp_dat,\n",
    "                  family = \"gaussian\",\n",
    "                  chains = 2,\n",
    "                  cores = 6,\n",
    "                  seed = 1234,\n",
    "                  iter = 1200)\n"
   ]
  },
  {
   "cell_type": "code",
   "execution_count": null,
   "metadata": {
    "vscode": {
     "languageId": "r"
    }
   },
   "outputs": [],
   "source": [
    "\n",
    "reps <- brm(feeling.rep~ female + age + college + income + jewish +\n",
    "                  catholic + other + authoritarianism + authoritarianism_2 +\n",
    "                  (1+ authoritarianism+ authoritarianism_2|year),\n",
    "                  data = tmp_dat,\n",
    "                  family = \"gaussian\",\n",
    "                   chains = 2,\n",
    "                  cores = 6,\n",
    "                  seed = 1234,\n",
    "                  iter = 1200)\n"
   ]
  },
  {
   "cell_type": "code",
   "execution_count": null,
   "metadata": {
    "vscode": {
     "languageId": "r"
    }
   },
   "outputs": [],
   "source": [
    "\n",
    "repc <- brm(feeling.repc~ female + age + college + income + jewish +\n",
    "                  catholic + other + authoritarianism + authoritarianism_2 +\n",
    "                  (1+ authoritarianism+ authoritarianism_2|year),\n",
    "                  data = tmp_dat,\n",
    "                  family = \"gaussian\",\n",
    "                   chains = 2,\n",
    "                  cores = 6,\n",
    "                  seed = 1234,\n",
    "                  iter = 1200)\n",
    "\n"
   ]
  },
  {
   "cell_type": "code",
   "execution_count": null,
   "metadata": {
    "vscode": {
     "languageId": "r"
    }
   },
   "outputs": [],
   "source": [
    "\n",
    "extremity <- brm(I(feeling.rep - feeling.dem)~ female + age + college + income + jewish +\n",
    "                  catholic + other + authoritarianism + authoritarianism_2 +\n",
    "                  authoritarianism:college + authoritarianism_2:college +\n",
    "                  (1+ authoritarianism+ authoritarianism_2|year),\n",
    "                  data = tmp_dat,\n",
    "                  family = \"gaussian\",\n",
    "                   chains = 2,\n",
    "                  cores = 6,\n",
    "                  seed = 1234,\n",
    "                  iter = 1200)\n"
   ]
  },
  {
   "cell_type": "code",
   "execution_count": null,
   "metadata": {
    "vscode": {
     "languageId": "r"
    }
   },
   "outputs": [],
   "source": [
    "\n",
    "extremity2 <- brm(I(feeling.repc - feeling.demc)~ female + age + college + income + jewish +\n",
    "                  catholic + other + authoritarianism + authoritarianism_2 +\n",
    "                  authoritarianism:college + authoritarianism_2:college +\n",
    "                  (1+ authoritarianism+ authoritarianism_2|year),\n",
    "                  data = tmp_dat,\n",
    "                  family = \"gaussian\",\n",
    "                   chains = 2,\n",
    "                  cores = 6,\n",
    "                  seed = 1234,\n",
    "                  iter = 1200)\n",
    "\n",
    "\n",
    "affect <- list(dems, reps, demc, repc, extremity, extremity2)\n",
    "# Save to Chapter 5 folder\n",
    "save(affect, file = \"affect.rda\")\n"
   ]
  },
  {
   "cell_type": "markdown",
   "metadata": {},
   "source": [
    "# Indirect and Direct Effects\n",
    "\n",
    "This is a somewhat complicated procedure. It draws on the logic of g-estimation, using this paper by Leah Comment as a guide. https://github.com/stan-dev/stancon_talks/blob/master/2018/Contributed-Talks/13_comment/gformula-in-Stan.Rmd"
   ]
  },
  {
   "cell_type": "code",
   "execution_count": 4,
   "metadata": {
    "vscode": {
     "languageId": "r"
    }
   },
   "outputs": [],
   "source": [
    "## Load dependencies, packages, data, etc ##\n",
    "# More transformations and data recodes.....\n",
    "rm(list = ls())\n",
    "library(brms)\n",
    "# library(tidyverse)\n",
    "library(ggplot2)\n",
    "library(modelr)\n",
    "library(tidybayes)\n",
    "library(dplyr)\n",
    "library(cowplot)\n",
    "source(\"functions/common_functions.r\")\n",
    "\n",
    "#### Some helper functions\n",
    "data_location <- \"clean_data/\"\n",
    "#### Load cleaned data\n",
    "load(\"clean_data/pooled.auth.rda\") ### Just work from this data; everything should be here, recoded.\n",
    "\n",
    "####\n",
    "data$party3 <- recode(data$pid * 6 + 1, `1` = 1, `2` = 1, `3` = 2, `4` = 2, `5` = 2, `6` = 3, `7` = 3) %>% suppressWarnings()\n",
    "data$republican <- recode(data$pid * 6 + 1, `1` = 0, `2` = 0, `3` = 0, `4` = 0, `5` = 0, `6` = 1, `7` = 1) %>% suppressWarnings()\n",
    "data$democrat <- recode(data$pid * 6 + 1, `1` = 1, `2` = 1, `3` = 0, `4` = 0, `5` = 0, `6` = 0, `7` = 0) %>% suppressWarnings()\n",
    "data$independent <- recode(data$pid * 6 + 1, `1` = 0, `2` = 0, `3` = 1, `4` = 1, `5` = 1, `6` = 0, `7` = 0) %>% suppressWarnings()\n",
    "data$feeling.repc <- zero.one(data$feeling.repc) %>% as.numeric()\n",
    "data$feeling.demc <- zero.one(data$feeling.demc) %>% as.numeric()\n",
    "data$feeling.rep <- zero.one(data$feeling.rep) %>% as.numeric()\n",
    "data$feeling.dem <- zero.one(data$feeling.dem) %>% as.numeric()\n"
   ]
  },
  {
   "cell_type": "code",
   "execution_count": 5,
   "metadata": {
    "vscode": {
     "languageId": "r"
    }
   },
   "outputs": [],
   "source": [
    "stan_data <- function(data, filter_at = 1990) {\n",
    "        tmp <- data[, c(\n",
    "                \"vote\", \"authoritarianism\", \"party3\", \"feeling.repc\", \"feeling.demc\",\n",
    "                \"female\", \"age\", \"college\", \"income\",\n",
    "                \"jewish\", \"catholic\", \"other\", \"year\"\n",
    "        )] %>%\n",
    "                na.omit() %>%\n",
    "                mutate(authoritarianism_2 = authoritarianism * authoritarianism) %>%\n",
    "                na.omit() %>%\n",
    "                subset(party3 != 2) %>%\n",
    "                mutate(party2 = recode(party3, `1` = 0, `3` = 1))\n",
    "        tmp <- subset(tmp, year == filter_at)\n",
    "        CONTROLS <- tmp[, c(\n",
    "                \"female\", \"age\", \"college\", \"income\",\n",
    "                \"jewish\", \"catholic\", \"other\"\n",
    "        )]\n",
    "\n",
    "\n",
    "        X <- cbind(1, CONTROLS)\n",
    "\n",
    "        stan_dat <- list(\n",
    "                N = nrow(tmp),\n",
    "                P = ncol(CONTROLS) + 1,\n",
    "                X = X,\n",
    "                A = tmp$authoritarianism,\n",
    "                A_2 = tmp$authoritarianism^2,\n",
    "                M = tmp$party2,\n",
    "                MxA = tmp$party2 * tmp$authoritarianism,\n",
    "                MxA_2 = tmp$party2 * tmp$authoritarianism_2,\n",
    "                Y = tmp$vote,\n",
    "                alpha_m = rep(0, ncol(X) + 5),\n",
    "                beta_m = rep(0, ncol(X) + 2),\n",
    "                alpha_vcv = 2.5 * diag(ncol(X) + 5),\n",
    "                beta_vcv = 2.5 * diag(ncol(X) + 2)\n",
    "        )\n",
    "\n",
    "        return(stan_dat)\n",
    "}\n"
   ]
  },
  {
   "cell_type": "code",
   "execution_count": 6,
   "metadata": {
    "vscode": {
     "languageId": "r"
    }
   },
   "outputs": [],
   "source": [
    "moderated_effect <- \"data{\n",
    "                int<lower=0> N;                           // number of observations\n",
    "                int<lower=0> P;                           // number of columns in the control matrix. Call control the matrix of rhs variables minus pid and authoritarianism\n",
    "                matrix[N, P] X;                           // controls, so excluding authoritariaism and pid\n",
    "                vector[N]    A;                          // observed authoritarianism, again just extracting stuff from the data matrix\n",
    "                vector[N]    A_2;\n",
    "                int<lower=0,upper=1> M[N];\n",
    "                real MxA[N];\n",
    "                real MxA_2[N];           // observed pid\n",
    "                int<lower=0,upper=1> Y[N];               // voting\n",
    "                vector[P + 5]  alpha_m;                   // mean of regression priors.  Again, just declaring according to the\n",
    "                vector[P + 2]  beta_m;                    // vector of priors for the mediation equation, PID = .....\n",
    "                cov_matrix[P + 5] alpha_vcv;             // variance-covariance of regression priors\n",
    "                cov_matrix[P + 2] beta_vcv;\n",
    "                    }\n",
    "        transformed data{\n",
    "                vector[N] boot_probs = rep_vector(1.0/N, N);     // make vector of 1/N for (classical) bootstrapping. This just assigns an equal probability for bootstrap samples..\n",
    "                vector[N] vM   = to_vector(M);                  // make vector copy of M\n",
    "                vector[N] vMxA = to_vector(MxA);                 // make vector copy of MxA\n",
    "                vector[N] vMxA_2 = to_vector(MxA_2);             //copy of MxA_2\n",
    "                }\n",
    "        parameters{\n",
    "                vector[P + 5] alpha;                         // regression coefficients (outcome model), add 2 because the size of this vector also include pid/auth ints included\n",
    "                vector[P + 2] beta;                          // regression coefficients (mediator model), add 1 because must also include auth.\n",
    "                }\n",
    "        transformed parameters {\n",
    "                //Save all the parameters in a set of vectors; alpha for the outcome, beta for the mediation\n",
    "                vector[P] betaZ       = head(beta, P);\n",
    "                vector[P] alphaZ      = head(alpha, P);\n",
    "                real betaA            = beta[P + 1];\n",
    "                real betaA_2          = beta[P + 2];\n",
    "                real alphaA           = alpha[P + 1];\n",
    "                real alphaA_2         = alpha[P + 2];\n",
    "                real alphaM           = alpha[P + 3];\n",
    "                real alphaMxA         = alpha[P + 4];\n",
    "                real alphaMxA_2       = alpha[P + 5];\n",
    "\n",
    "            }\n",
    "        model {\n",
    "            alpha ~ multi_normal(alpha_m, alpha_vcv);\n",
    "            beta  ~ multi_normal(beta_m, beta_vcv);\n",
    "            // Likelihood in the mediation -- pid model\n",
    "            M ~ bernoulli_logit(X * betaZ +  A * betaA + A_2 * betaA_2);\n",
    "           // Likelihood in the outcome -- vote model\n",
    "            Y ~ bernoulli_logit(X * alphaZ + A * alphaA +  A_2 * alphaA_2 + vM * alphaM + vMxA * alphaMxA + vMxA_2*alphaMxA_2);\n",
    "                        }\n",
    "\n",
    "        generated quantities{\n",
    "            int row_i;\n",
    "            real NDE_0 = 0;\n",
    "            real NDE_1 = 0;\n",
    "\n",
    "            real NIE_0 = 0;\n",
    "            real NIE_1 = 0;\n",
    "\n",
    "            vector[N] M_a0;\n",
    "            vector[N] M_a1;\n",
    "\n",
    "            vector[N] Y_a1_m0;\n",
    "            vector[N] Y_a0_m0;\n",
    "            vector[N] Y_a1_m1;\n",
    "            vector[N] Y_a0_m1;\n",
    "        for(n in 1:N){\n",
    "            row_i = categorical_rng(boot_probs);\n",
    "            M_a0[n] = bernoulli_logit_rng(X[row_i] * betaZ );\n",
    "            M_a1[n] = bernoulli_logit_rng(X[row_i] * betaZ +  betaA + betaA_2);\n",
    "            //Use these draws to form various NIE, NDE estimands\n",
    "            //NDE -- Dem and Rep\n",
    "            Y_a1_m0[n] = bernoulli_logit_rng(X[row_i] * alphaZ + M_a0[n] * alphaM + alphaA + alphaA_2 + M_a0[n]*1*alphaMxA  + M_a0[n]*1*alphaMxA_2);\n",
    "            Y_a0_m0[n] = bernoulli_logit_rng(X[row_i] * alphaZ + M_a0[n] * alphaM);\n",
    "\n",
    "            Y_a1_m1[n] = bernoulli_logit_rng(X[row_i] * alphaZ + M_a1[n] * alphaM + alphaA + alphaA_2 + M_a1[n]*1*alphaMxA  + M_a1[n]*1*alphaMxA_2);\n",
    "            Y_a0_m1[n] = bernoulli_logit_rng(X[row_i] * alphaZ + M_a1[n] * alphaM);\n",
    "        NDE_0 = NDE_0 + (Y_a1_m0[n] - Y_a0_m0[n])/N;\n",
    "        NDE_1 = NDE_1 + (Y_a1_m1[n] - Y_a0_m1[n])/N;\n",
    "        NIE_0 = NIE_0 + (Y_a0_m1[n] - Y_a0_m0[n])/N;\n",
    "        NIE_1 = NIE_1 + (Y_a1_m1[n] - Y_a1_m0[n])/N;\n",
    "    }\n",
    "}\n",
    "\"\n",
    "\n"
   ]
  },
  {
   "cell_type": "code",
   "execution_count": 7,
   "metadata": {
    "vscode": {
     "languageId": "r"
    }
   },
   "outputs": [],
   "source": [
    "# Feeling Thermometer\n",
    "\n",
    "moderated_effect_linear = \"data{\n",
    "                int<lower=0> N;                           // number of observations\n",
    "                int<lower=0> P;                           // number of columns in the control matrix. Call control the matrix of rhs variables minus pid and authoritarianism\n",
    "                matrix[N, P] X;                           // controls, so excluding authoritariaism and pid\n",
    "                vector[N]    A;                          // observed authoritarianism, again just extracting stuff from the data matrix\n",
    "                vector[N]    A_2;\n",
    "                int<lower=0,upper=1> M[N];\n",
    "                real MxA[N];\n",
    "                real MxA_2[N];           // observed pid\n",
    "                real Y[N];               // ft\n",
    "                vector[P + 5]  alpha_m;                   // mean of regression priors.  Again, just declaring according to the\n",
    "                vector[P + 2]  beta_m;                    // vector of priors for the mediation equation, PID = .....\n",
    "                cov_matrix[P + 5] alpha_vcv;             // variance-covariance of regression priors\n",
    "                cov_matrix[P + 2] beta_vcv;\n",
    "                    }\n",
    "        transformed data{\n",
    "                vector[N] boot_probs = rep_vector(1.0/N, N);     // make vector of 1/N for (classical) bootstrapping. This just assigns an equal probability for bootstrap samples..\n",
    "                vector[N] vM   = to_vector(M);                  // make vector copy of M\n",
    "                vector[N] vMxA = to_vector(MxA);                 // make vector copy of MxA\n",
    "                vector[N] vMxA_2 = to_vector(MxA_2);             // make vector copy of MxA_2\n",
    "                }\n",
    "        parameters{\n",
    "                vector[P + 5] alpha;                         // regression coefficients (outcome model), add 2 because the size of this vector also include pid/auth ints included\n",
    "                vector[P + 2] beta;                          // regression coefficients (mediator model), add 1 because must also include auth.\n",
    "                real<lower=0>sigma;\n",
    "                }\n",
    "        transformed parameters {\n",
    "                //Save all the parameters in a set of vectors; alpha for the outcome, beta for the mediation\n",
    "                vector[P] betaZ       = head(beta, P);\n",
    "                vector[P] alphaZ      = head(alpha, P);\n",
    "                real betaA            = beta[P + 1];\n",
    "                real betaA_2          = beta[P + 2];\n",
    "                real alphaA           = alpha[P + 1];\n",
    "                real alphaA_2         = alpha[P + 2];\n",
    "                real alphaM           = alpha[P + 3];\n",
    "                real alphaMxA         = alpha[P + 4];\n",
    "                real alphaMxA_2       = alpha[P + 5];\n",
    "\n",
    "            }\n",
    "        model {\n",
    "            alpha ~ multi_normal(alpha_m, alpha_vcv);                   // priors on causal coefficients weakly informative for binary exposure\n",
    "            beta  ~ multi_normal(beta_m, beta_vcv);\n",
    "            // Likelihood in the mediation -- pid model\n",
    "            M ~ bernoulli_logit(X * betaZ +  A * betaA + A_2 * betaA_2);\n",
    "           // Likelihood in the outcome -- vote model\n",
    "            Y ~ normal(X * alphaZ + A * alphaA +  A_2 * alphaA_2 + vM * alphaM + vMxA * alphaMxA + vMxA_2*alphaMxA_2, sigma);\n",
    "                        }\n",
    "\n",
    "        generated quantities{\n",
    "            int row_i;\n",
    "            real NDE_0 = 0;\n",
    "            real NDE_1 = 0;\n",
    "\n",
    "            real NIE_0 = 0;\n",
    "            real NIE_1 = 0;\n",
    "\n",
    "            vector[N] M_a0;\n",
    "            vector[N] M_a1;\n",
    "\n",
    "            vector[N] Y_a1_m0;\n",
    "            vector[N] Y_a0_m0;\n",
    "            vector[N] Y_a1_m1;\n",
    "            vector[N] Y_a0_m1;\n",
    "        for(n in 1:N){\n",
    "            row_i = categorical_rng(boot_probs);\n",
    "            M_a0[n] = bernoulli_logit_rng(X[row_i] * betaZ );\n",
    "            M_a1[n] = bernoulli_logit_rng(X[row_i] * betaZ +  betaA + betaA_2);\n",
    "            //Use these draws to form various NIE, NDE estimands\n",
    "            //NDE -- Dem and Rep\n",
    "            Y_a1_m0[n] = normal_rng(X[row_i] * alphaZ + M_a0[n] * alphaM + alphaA + alphaA_2 + M_a0[n]*1*alphaMxA  + M_a0[n]*1*alphaMxA_2, sigma);\n",
    "            Y_a0_m0[n] = normal_rng(X[row_i] * alphaZ + M_a0[n] * alphaM, sigma);\n",
    "\n",
    "            Y_a1_m1[n] = normal_rng(X[row_i] * alphaZ + M_a1[n] * alphaM + alphaA + alphaA_2 + M_a1[n]*1*alphaMxA  + M_a1[n]*1*alphaMxA_2, sigma);\n",
    "            Y_a0_m1[n] = normal_rng(X[row_i] * alphaZ + M_a1[n] * alphaM, sigma);\n",
    "        NDE_0 = NDE_0 + (Y_a1_m0[n] - Y_a0_m0[n])/N;\n",
    "        NDE_1 = NDE_1 + (Y_a1_m1[n] - Y_a0_m1[n])/N;\n",
    "        NIE_0 = NIE_0 + (Y_a0_m1[n] - Y_a0_m0[n])/N;\n",
    "        NIE_1 = NIE_1 + (Y_a1_m1[n] - Y_a1_m0[n])/N;\n",
    "    }\n",
    "}\n",
    "\n",
    "\""
   ]
  },
  {
   "cell_type": "code",
   "execution_count": 24,
   "metadata": {
    "vscode": {
     "languageId": "r"
    }
   },
   "outputs": [
    {
     "name": "stdout",
     "output_type": "stream",
     "text": [
      "[1] 1196\n",
      "[1] 443\n",
      "[1] 660\n",
      "[1] 956\n",
      "[1] 785\n",
      "[1] 665\n",
      "[1] 3234\n",
      "[1] 759\n",
      "[1] 323\n",
      "[1] 538\n",
      "[1] 735\n",
      "[1] 555\n",
      "[1] 459\n",
      "[1] 2654\n"
     ]
    }
   ],
   "source": [
    "library(\"rstan\")\n",
    "### Loops through and runs the model on each year. Again, I didn't bother with a multilevel specification here.\n",
    "for (yy in c(1992, 2000, 2004, 2008, 2012, 2016, 2020)) {\n",
    "   tmp_dat =  data %>% filter(year == yy)\n",
    "   lm(I(feeling.demc - feeling.demc ) ~ female + age + college + income +      jewish +  catholic + other + authoritarianism, data = tmp_dat) ->mod\n",
    "  mod$residuals %>% length() %>% print()\n",
    "}\n",
    "\n",
    "\n",
    "library(\"rstan\")\n",
    "### Loops through and runs the model on each year. Again, I didn't bother with a multilevel specification here.\n",
    "for (yy in c(1992, 2000, 2004, 2008, 2012, 2016, 2020)) {\n",
    "   tmp_dat <- data %>% filter(year == yy)\n",
    "   lm(I(vote) ~ female + age + college + income + jewish + catholic + other + authoritarianism, data = tmp_dat) -> mod\n",
    "   mod$residuals %>%\n",
    "      length() %>%\n",
    "      print()\n",
    "}\n",
    "\n"
   ]
  },
  {
   "cell_type": "code",
   "execution_count": 40,
   "metadata": {
    "vscode": {
     "languageId": "r"
    }
   },
   "outputs": [
    {
     "data": {
      "text/html": [
       "9526"
      ],
      "text/latex": [
       "9526"
      ],
      "text/markdown": [
       "9526"
      ],
      "text/plain": [
       "[1] 9526"
      ]
     },
     "metadata": {},
     "output_type": "display_data"
    }
   ],
   "source": [
    "1426 + 603 + 838 + 1126 + 918 + 793 + 3822"
   ]
  },
  {
   "cell_type": "markdown",
   "metadata": {},
   "source": [
    "# Estimate Indirect/Direct Effect by Year"
   ]
  },
  {
   "cell_type": "code",
   "execution_count": null,
   "metadata": {
    "vscode": {
     "languageId": "r"
    }
   },
   "outputs": [],
   "source": [
    "library(\"rstan\")\n",
    "rstan_options(auto_write = TRUE)\n",
    "### Loops through and runs the model on each year. Again, I didn't bother with a multilevel specification here.\n",
    "for (yy in c(1992, 2000, 2004, 2008, 2012, 2016, 2020)) {\n",
    "    assign(paste0(\"effect\", yy), stan(\n",
    "        model_code = moderated_effect, data = stan_data(data, filter_at = yy), iter = 1000,\n",
    "        chains = 3,\n",
    "        cores = 6,\n",
    "        seed = 1234\n",
    "    ) %>% summary(pars = c(\"NIE_0\", \"NIE_1\", \"NDE_0\", \"NDE_1\")))\n",
    "}\n"
   ]
  },
  {
   "cell_type": "code",
   "execution_count": 21,
   "metadata": {
    "vscode": {
     "languageId": "r"
    }
   },
   "outputs": [],
   "source": [
    "plt1 = rbind(\n",
    "        effect1992$summary,\n",
    "        effect2000$summary,\n",
    "        effect2004$summary,\n",
    "        effect2008$summary,\n",
    "        effect2012$summary,\n",
    "        effect2016$summary,\n",
    "        effect2020$summary) %>% data.frame()\n"
   ]
  },
  {
   "cell_type": "code",
   "execution_count": 25,
   "metadata": {
    "vscode": {
     "languageId": "r"
    }
   },
   "outputs": [],
   "source": [
    "library(rstan)\n",
    "\n",
    "stan_data = function(data, filter_at = 1992){\n",
    "                    tmp = data[,c(\"vote\", \"authoritarianism\", \"party3\", \"feeling.repc\", \"feeling.demc\",\n",
    "                            \"female\", \"age\", \"college\", \"income\",\n",
    "                            \"jewish\", \"catholic\", \"other\", \"year\")] %>% na.omit() %>%\n",
    "                                mutate(authoritarianism_2 = authoritarianism*authoritarianism) %>%  na.omit()%>%\n",
    "                                subset(party3!=2)   %>%\n",
    "                                mutate(party2 = recode(party3, `1` = 0, `3` =1))\n",
    "                    tmp = subset(tmp, year == filter_at)\n",
    "                    CONTROLS = tmp[,c(\"female\", \"age\", \"college\", \"income\",\n",
    "                                    \"jewish\", \"catholic\", \"other\")]\n",
    "\n",
    "\n",
    "                    X = cbind(1, CONTROLS)\n",
    "\n",
    "                    stan_dat = list(N = nrow(tmp),\n",
    "                            P = ncol(CONTROLS) + 1,\n",
    "                            X = X,\n",
    "                            A  = tmp$authoritarianism,\n",
    "                            A_2 = tmp$authoritarianism^2,\n",
    "                            M   = tmp$party2,\n",
    "                            MxA =  tmp$party2 * tmp$authoritarianism,\n",
    "                            MxA_2 = tmp$party2 * tmp$authoritarianism_2,\n",
    "                            Y    = tmp$feeling.repc - tmp$feeling.demc,\n",
    "                            alpha_m = rep(0, ncol(X) + 5 ),\n",
    "                            beta_m =  rep(0, ncol(X) + 2),\n",
    "                            alpha_vcv = 2.5 * diag(ncol(X) + 5 ),\n",
    "                            beta_vcv  = 2.5 * diag(ncol(X) + 2 ))\n",
    "\n",
    "                    return(stan_dat)\n",
    "\n",
    "\n",
    "}\n",
    "for(yy in c(1992, 2000, 2004, 2008, 2012, 2016, 2020)){\n",
    "    assign(paste0(\"effect\", year), stan(model_code = moderated_effect_linear, data = stan_data(data, filter_at = yy), iter = 1000,\n",
    "                                                                                chains = 3,\n",
    "                                                                                cores = 6,\n",
    "                                                                                seed = 1234)%>% summary(pars = c(\"NIE_0\", \"NIE_1\", \"NDE_0\", \"NDE_1\"))\n",
    "                                                                                )\n",
    "\n",
    "}\n",
    "plt2 = rbind(\n",
    "        effect1992$summary,\n",
    "        effect2000$summary,\n",
    "        effect2004$summary,\n",
    "        effect2008$summary,\n",
    "        effect2012$summary,\n",
    "        effect2016$summary,\n",
    "        effect2020$summary) %>% data.frame()\n"
   ]
  },
  {
   "cell_type": "code",
   "execution_count": 28,
   "metadata": {
    "vscode": {
     "languageId": "r"
    }
   },
   "outputs": [],
   "source": [
    "output = list(plt1, plt2)\n",
    "\n",
    "save(output, file = \"/indirect.rda\")\n"
   ]
  }
 ],
 "metadata": {
  "kernelspec": {
   "display_name": "R",
   "language": "R",
   "name": "ir"
  },
  "language_info": {
   "codemirror_mode": "r",
   "file_extension": ".r",
   "mimetype": "text/x-r-source",
   "name": "R",
   "pygments_lexer": "r",
   "version": "4.3.3"
  },
  "orig_nbformat": 4
 },
 "nbformat": 4,
 "nbformat_minor": 2
}
